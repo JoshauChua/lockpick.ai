{
 "cells": [
  {
   "cell_type": "code",
   "execution_count": 2,
   "id": "ba9a0481",
   "metadata": {},
   "outputs": [],
   "source": [
    "import pandas as pd\n",
    "from bs4 import BeautifulSoup\n",
    "import requests\n",
    "import csv\n",
    "\n",
    "#requests.get() simply retrieves the html data from the link given\n",
    "url = requests.get(\"https://quotes.toscrape.com/\")\n",
    "soup = BeautifulSoup(url.text, \"html.parser\")\n",
    "\n",
    "\n",
    "quotes = soup.find_all(\"span\", attrs={\"class\":\"text\"})\n",
    "authors = soup.find_all(\"small\", attrs={\"class\":\"author\"})\n",
    "\n",
    "\n",
    "file = open(\"stolen_quotes.csv\", \"w\")\n",
    "writer = csv.writer(file)\n",
    "\n",
    "writer.writerow([\"Quotes\", \"Author\"])\n",
    "\n",
    "for quote, author in zip(quotes, authors):\n",
    "    writer.writerow([quote.text , author.text])\n",
    "file.close()\n",
    "\n",
    "\n",
    "\n"
   ]
  },
  {
   "cell_type": "code",
   "execution_count": null,
   "id": "cf0c042b",
   "metadata": {},
   "outputs": [],
   "source": [
    "\n",
    "    \n"
   ]
  }
 ],
 "metadata": {
  "kernelspec": {
   "display_name": ".venv",
   "language": "python",
   "name": "python3"
  },
  "language_info": {
   "codemirror_mode": {
    "name": "ipython",
    "version": 3
   },
   "file_extension": ".py",
   "mimetype": "text/x-python",
   "name": "python",
   "nbconvert_exporter": "python",
   "pygments_lexer": "ipython3",
   "version": "3.12.6"
  }
 },
 "nbformat": 4,
 "nbformat_minor": 5
}
