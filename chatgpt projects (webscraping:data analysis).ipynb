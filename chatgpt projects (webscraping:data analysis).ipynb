{
 "cells": [
  {
   "cell_type": "code",
   "execution_count": 21,
   "id": "6e4ea8b5",
   "metadata": {},
   "outputs": [],
   "source": [
    "from bs4 import BeautifulSoup\n",
    "import pandas as pd\n",
    "import csv\n",
    "import requests\n",
    "\n",
    "\n",
    "\n"
   ]
  },
  {
   "cell_type": "code",
   "execution_count": 22,
   "id": "ac366d92",
   "metadata": {},
   "outputs": [
    {
     "name": "stdout",
     "output_type": "stream",
     "text": [
      "200\n"
     ]
    }
   ],
   "source": [
    "url = \"https://www.skysports.com/premier-league-table\"\n",
    "page = requests.get(url)\n",
    "soup = BeautifulSoup(page.text, 'html.parser')\n",
    "\n",
    "data = soup.find('table', class_ = 'sdc-site-table')\n",
    "\n",
    "\n",
    "#table = soup.find(\"table\", class_=[\"wikitable\", \"sortable\", \"plainrowheaders\", \"jquery-tablesorter\"])\n",
    "\n",
    "# print(soup.prettify()[:100])\n",
    "print(page.status_code)\n",
    "# print(soup)\n",
    "# print(data)\n",
    "headers_list = []\n",
    "#one set of for loops to find table headers\n",
    "for headers in data.find_all('thead'): #looks for every thead in \"data\", which is already a subset of the whole html page\n",
    "    head = headers.find_all('th') #looks for every th in the given thead\n",
    "    for name in head: #searches through the current th\n",
    "        header = name.find('abbr', title=True) #within the current th, finds abbr tag where title is true\n",
    "        headers_list.append(header['title']) #since the \"header\" is a tag object, it contains a bunch of varibales, one of them being 'title', so we append what ever the title tag is equal to, to the headers_list list\n",
    "\n",
    "\n",
    "\n",
    "\n",
    "\n",
    "\n",
    "#one set of for loops to find table data\n",
    "main_list = []\n",
    "for body in data.find_all(\"tbody\"):\n",
    "    row = body.find_all('tr')\n",
    "    for value in row:\n",
    "        data_list = value.find_all('td') #finds all the td tags within the current tr tag\n",
    "        current_list = []\n",
    "        for item in data_list: #searches through each td tag\n",
    "            current_list.append(item.text.strip()) #appends the text within the current td tag to the current_list list, and strips any extra whitespace\n",
    "        main_list.append(current_list) #appends the current_list to the main_list, which is a list of lists\n",
    "\n",
    "# print(main_list)\n",
    "\n"
   ]
  },
  {
   "cell_type": "code",
   "execution_count": 23,
   "id": "28fa1c29",
   "metadata": {},
   "outputs": [
    {
     "name": "stdout",
     "output_type": "stream",
     "text": [
      "[['1', 'Liverpool', '5', '5', '0', '0', '11', '5', '+6', '15'], ['2', 'Arsenal', '5', '3', '1', '1', '10', '2', '+8', '10'], ['3', 'Tottenham Hotspur', '5', '3', '1', '1', '10', '3', '+7', '10'], ['4', 'Bournemouth', '5', '3', '1', '1', '6', '5', '+1', '10'], ['5', 'Crystal Palace', '5', '2', '3', '0', '6', '2', '+4', '9'], ['6', 'Chelsea', '5', '2', '2', '1', '10', '5', '+5', '8'], ['7', 'Sunderland', '5', '2', '2', '1', '6', '4', '+2', '8'], ['8', 'Fulham', '5', '2', '2', '1', '6', '5', '+1', '8'], ['9', 'Manchester City', '5', '2', '1', '2', '9', '5', '+4', '7'], ['10', 'Everton', '5', '2', '1', '2', '6', '5', '+1', '7'], ['11', 'Manchester United', '5', '2', '1', '2', '6', '8', '-2', '7'], ['12', 'Leeds United', '5', '2', '1', '2', '4', '7', '-3', '7'], ['13', 'Newcastle United', '5', '1', '3', '1', '3', '3', '0', '6'], ['14', 'Brighton and Hove Albion', '5', '1', '2', '2', '6', '8', '-2', '5'], ['15', 'Nottingham Forest', '5', '1', '2', '2', '5', '9', '-4', '5'], ['16', 'Burnley', '5', '1', '1', '3', '5', '8', '-3', '4'], ['17', 'Brentford', '5', '1', '1', '3', '6', '10', '-4', '4'], ['18', 'Aston Villa', '5', '0', '3', '2', '1', '5', '-4', '3'], ['19', 'West Ham United', '5', '1', '0', '4', '5', '13', '-8', '3'], ['20', 'Wolverhampton Wanderers', '5', '0', '0', '5', '3', '12', '-9', '0']]\n"
     ]
    }
   ],
   "source": [
    "print(main_list)"
   ]
  }
 ],
 "metadata": {
  "kernelspec": {
   "display_name": ".venv",
   "language": "python",
   "name": "python3"
  },
  "language_info": {
   "codemirror_mode": {
    "name": "ipython",
    "version": 3
   },
   "file_extension": ".py",
   "mimetype": "text/x-python",
   "name": "python",
   "nbconvert_exporter": "python",
   "pygments_lexer": "ipython3",
   "version": "3.12.6"
  }
 },
 "nbformat": 4,
 "nbformat_minor": 5
}
