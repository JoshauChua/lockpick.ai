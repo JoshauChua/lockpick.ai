{
 "cells": [
  {
   "cell_type": "code",
   "execution_count": null,
   "id": "6e4ea8b5",
   "metadata": {},
   "outputs": [],
   "source": [
    "from bs4 import BeautifulSoup\n",
    "import pandas as pd\n",
    "import csv\n",
    "import requests\n",
    "\n",
    "\n",
    "\n"
   ]
  },
  {
   "cell_type": "code",
   "execution_count": null,
   "id": "ac366d92",
   "metadata": {},
   "outputs": [
    {
     "data": {
      "text/plain": [
       "'Please set a user-agent and respect our robot policy https://w.wiki/4wJS. See also T400119.\\n'"
      ]
     },
     "execution_count": 5,
     "metadata": {},
     "output_type": "execute_result"
    }
   ],
   "source": [
    "\n",
    "#wikipedia table scraper\n",
    "\n",
    "url = \"https://en.wikipedia.org/wiki/National_Basketball_Association#Teams\"\n",
    "data_of_url = requests.get(url)\n",
    "\n",
    "\n",
    "\n"
   ]
  }
 ],
 "metadata": {
  "kernelspec": {
   "display_name": ".venv",
   "language": "python",
   "name": "python3"
  },
  "language_info": {
   "codemirror_mode": {
    "name": "ipython",
    "version": 3
   },
   "file_extension": ".py",
   "mimetype": "text/x-python",
   "name": "python",
   "nbconvert_exporter": "python",
   "pygments_lexer": "ipython3",
   "version": "3.12.6"
  }
 },
 "nbformat": 4,
 "nbformat_minor": 5
}
